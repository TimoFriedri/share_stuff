{
 "cells": [
  {
   "cell_type": "code",
   "execution_count": 2,
   "metadata": {},
   "outputs": [],
   "source": [
    "import ipyvolume as ipv\n",
    "import numpy as np"
   ]
  },
  {
   "cell_type": "markdown",
   "metadata": {},
   "source": [
    "# Working"
   ]
  },
  {
   "cell_type": "code",
   "execution_count": 16,
   "metadata": {},
   "outputs": [
    {
     "data": {
      "application/vnd.jupyter.widget-view+json": {
       "model_id": "3687482341be43d6b10d53663ae7cbe8",
       "version_major": 2,
       "version_minor": 0
      },
      "text/plain": [
       "VBox(children=(Figure(camera=PerspectiveCamera(fov=45.0, position=(0.0, 0.0, 2.0), quaternion=(0.0, 0.0, 0.0, …"
      ]
     },
     "metadata": {},
     "output_type": "display_data"
    }
   ],
   "source": [
    "f1 = ipv.figure()\n",
    "ipv.show()\n",
    "def plotme():\n",
    "    ipv.gcf()\n",
    "    d1 = np.random.random([3, 5])\n",
    "    s1 = ipv.scatter(x=d1[0,:], y=d1[1,:], z=d1[2,:])\n",
    "plotme()"
   ]
  },
  {
   "cell_type": "code",
   "execution_count": 11,
   "metadata": {},
   "outputs": [],
   "source": [
    "f1.scatters[-1].visible = False # OK"
   ]
  },
  {
   "cell_type": "code",
   "execution_count": 17,
   "metadata": {},
   "outputs": [],
   "source": [
    "# BTW, this does not update the figure\n",
    "f1.scatters = []"
   ]
  },
  {
   "cell_type": "markdown",
   "metadata": {},
   "source": [
    "# NOT working\n",
    "only return s1 is added"
   ]
  },
  {
   "cell_type": "code",
   "execution_count": 12,
   "metadata": {},
   "outputs": [
    {
     "data": {
      "application/vnd.jupyter.widget-view+json": {
       "model_id": "812c3977f3304f1bbaeab04b4f968684",
       "version_major": 2,
       "version_minor": 0
      },
      "text/plain": [
       "VBox(children=(Figure(camera=PerspectiveCamera(fov=45.0, position=(0.0, 0.0, 2.0), quaternion=(0.0, 0.0, 0.0, …"
      ]
     },
     "metadata": {},
     "output_type": "display_data"
    },
    {
     "data": {
      "application/vnd.jupyter.widget-view+json": {
       "model_id": "733053532ac540b1ae6c24d21ab88000",
       "version_major": 2,
       "version_minor": 0
      },
      "text/plain": [
       "Scatter(color_selected=array('white', dtype='<U5'), line_material=ShaderMaterial(), material=ShaderMaterial(),…"
      ]
     },
     "metadata": {},
     "output_type": "display_data"
    }
   ],
   "source": [
    "f2 = ipv.figure()\n",
    "ipv.show()\n",
    "def plotme():\n",
    "    ipv.gcf()\n",
    "    d1 = np.random.random([3, 5])\n",
    "    s1 = ipv.scatter(x=d1[0,:], y=d1[1,:], z=d1[2,:])\n",
    "    return s1\n",
    "plotme()"
   ]
  },
  {
   "cell_type": "code",
   "execution_count": 13,
   "metadata": {},
   "outputs": [],
   "source": [
    "f2.scatters[-1].visible = False # NOT OK"
   ]
  },
  {
   "cell_type": "markdown",
   "metadata": {},
   "source": [
    "# Working again\n",
    "foo = added"
   ]
  },
  {
   "cell_type": "code",
   "execution_count": 14,
   "metadata": {},
   "outputs": [
    {
     "data": {
      "application/vnd.jupyter.widget-view+json": {
       "model_id": "0b0d419c24ea4d9fae5e01455011b041",
       "version_major": 2,
       "version_minor": 0
      },
      "text/plain": [
       "VBox(children=(Figure(camera=PerspectiveCamera(fov=45.0, position=(0.0, 0.0, 2.0), quaternion=(0.0, 0.0, 0.0, …"
      ]
     },
     "metadata": {},
     "output_type": "display_data"
    }
   ],
   "source": [
    "f3 = ipv.figure()\n",
    "ipv.show()\n",
    "def plotme():\n",
    "    ipv.gcf()\n",
    "    d1 = np.random.random([3, 5])\n",
    "    s1 = ipv.scatter(x=d1[0,:], y=d1[1,:], z=d1[2,:])\n",
    "    return s1\n",
    "foo = plotme()"
   ]
  },
  {
   "cell_type": "code",
   "execution_count": 15,
   "metadata": {},
   "outputs": [],
   "source": [
    "f3.scatters[-1].visible = False"
   ]
  }
 ],
 "metadata": {
  "kernelspec": {
   "display_name": "Python [conda env:anaconda3-FeTA21] *",
   "language": "python",
   "name": "conda-env-anaconda3-FeTA21-py"
  },
  "language_info": {
   "codemirror_mode": {
    "name": "ipython",
    "version": 3
   },
   "file_extension": ".py",
   "mimetype": "text/x-python",
   "name": "python",
   "nbconvert_exporter": "python",
   "pygments_lexer": "ipython3",
   "version": "3.7.6"
  }
 },
 "nbformat": 4,
 "nbformat_minor": 4
}
